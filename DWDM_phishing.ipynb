{
 "cells": [
  {
   "cell_type": "markdown",
   "metadata": {},
   "source": [
    "# Detecting Websites Involved in Phishing\n",
    "### Dhruv Yadav 2K18/SE/056\n",
    "### Ishaan Jain 2K18/SE/067\n",
    "### Kevin Mirchandani 2K18/SE/073"
   ]
  },
  {
   "cell_type": "markdown",
   "metadata": {},
   "source": [
    "## Imports"
   ]
  },
  {
   "cell_type": "code",
   "execution_count": 5,
   "metadata": {},
   "outputs": [],
   "source": [
    "import pandas as pd\n",
    "import numpy as np\n",
    "from sklearn import datasets\n",
    "from sklearn.preprocessing import StandardScaler\n",
    "import numpy as np\n",
    "from sklearn.model_selection import train_test_split\n",
    "from sklearn.model_selection import GridSearchCV\n",
    "from sklearn.neighbors import KNeighborsClassifier\n",
    "import math\n",
    "from sklearn.manifold import TSNE\n",
    "import matplotlib.pyplot as plt\n",
    "import seaborn as sns\n",
    "from sklearn.feature_selection import SelectKBest\n",
    "from sklearn.preprocessing import MinMaxScaler\n",
    "from sklearn.feature_selection import RFE\n",
    "from sklearn.linear_model import LogisticRegression\n",
    "from math import sqrt\n",
    "from math import pi\n",
    "from math import exp\n",
    "from sklearn.metrics import confusion_matrix\n",
    "from sklearn.metrics import classification_report"
   ]
  },
  {
   "cell_type": "markdown",
   "metadata": {},
   "source": [
    "## Loading Data"
   ]
  },
  {
   "cell_type": "code",
   "execution_count": 6,
   "metadata": {},
   "outputs": [],
   "source": [
    "def generate_data():\n",
    "    \n",
    "    df = pd.read_csv(r\"phishing.csv\")\n",
    "    X = df.drop(columns = 'class')\n",
    "    Y = df['class']\n",
    "    X_norm = MinMaxScaler().fit_transform(X)\n",
    "    rfe_selector = RFE(estimator=LogisticRegression(), n_features_to_select=10, step=10, verbose=5)\n",
    "    rfe_selector.fit(X_norm, Y)\n",
    "    rfe_support = rfe_selector.get_support()\n",
    "    rfe_feature = X.loc[:,rfe_support].columns.tolist()\n",
    "    print()\n",
    "    print(str(len(rfe_feature)), 'selected features')\n",
    "    print(rfe_feature)\n",
    "    X.drop(X.columns.difference(['UsingIP', 'PrefixSuffix-', 'SubDomains', 'HTTPS', 'AnchorURL', 'LinksInScriptTags', 'ServerFormHandler', 'WebsiteTraffic', 'GoogleIndex', 'LinksPointingToPage']), 1, inplace=True)\n",
    "    print()\n",
    "    print()\n",
    "    X = np.array(X)\n",
    "    Y = np.array(Y)\n",
    "    X_train, X_validation, Y_train,  Y_validation = train_test_split(X, Y, test_size=0.30,stratify=Y,random_state=0)\n",
    "    \n",
    "    print(\"Shape of X_train : \", X_train.shape)\n",
    "    print()\n",
    "    print(\"Shape of X_validation : \", X_validation.shape)\n",
    "    print()\n",
    "    print(\"Shape of Y_train : \", Y_train.shape)\n",
    "    print()\n",
    "    print(\"Shape of Y_validation : \", Y_validation.shape)\n",
    "    \n",
    "    return X_train, X_validation, Y_train, Y_validation\n",
    "    "
   ]
  },
  {
   "cell_type": "markdown",
   "metadata": {},
   "source": [
    "## KNN From Scratch"
   ]
  },
  {
   "cell_type": "code",
   "execution_count": 7,
   "metadata": {},
   "outputs": [],
   "source": [
    "#calculating the eucledian distance between two data points\n",
    "\n",
    "def ucleadian_distance(row, data_point):\n",
    "    distance = 0.0\n",
    "    for i in range(len(row)):\n",
    "        distance = distance + (row[i] - data_point[i]) * (row[i] - data_point[i])\n",
    "    return math.sqrt(distance)"
   ]
  },
  {
   "cell_type": "code",
   "execution_count": 8,
   "metadata": {},
   "outputs": [],
   "source": [
    "# choosing the first k closest neighbours\n",
    "def first_k_neighbours(distances, k):\n",
    "    \n",
    "    neighbours = []\n",
    "    for i in range(k):\n",
    "        neighbours.append(distances[i][0])\n",
    "    \n",
    "    return neighbours"
   ]
  },
  {
   "cell_type": "code",
   "execution_count": 9,
   "metadata": {},
   "outputs": [],
   "source": [
    "# calculating distance of all neighbours and sorting them in ascending order\n",
    "\n",
    "def get_neighbours(X_train, Y_train, data_point, k):\n",
    "    \n",
    "    distances = []\n",
    "    for i in range(len(X_train)):\n",
    "        \n",
    "        distance = ucleadian_distance(X_train[i],data_point)\n",
    "        distances.append((Y_train[i],distance))\n",
    "    \n",
    "    # sorting the list\n",
    "    distances.sort(key = lambda x: x[1])\n",
    "    \n",
    "    neighbours = first_k_neighbours(distances,k)\n",
    "    \n",
    "    return neighbours\n",
    "    "
   ]
  },
  {
   "cell_type": "code",
   "execution_count": 10,
   "metadata": {},
   "outputs": [],
   "source": [
    "# calculating the predicted class from k neighbours\n",
    "\n",
    "def get_prediction(neighbours, k):\n",
    "    \n",
    "    class_freq = {}\n",
    "    for key in neighbours:\n",
    "        \n",
    "        if key not in class_freq.keys():\n",
    "            class_freq[key] = 1\n",
    "        else:\n",
    "            class_freq[key] = class_freq[key] + 1\n",
    "    \n",
    "    values = list(class_freq.values())\n",
    "    keys = list(class_freq.keys())\n",
    "\n",
    "    prediction = keys[values.index(max(values))]\n",
    "    \n",
    "    return prediction\n",
    "        "
   ]
  },
  {
   "cell_type": "code",
   "execution_count": 11,
   "metadata": {},
   "outputs": [],
   "source": [
    "# predicting class for entire testing dataset\n",
    "\n",
    "def predict(X_test, X_train, Y_test, Y_train, k):\n",
    "    \n",
    "    predictions = []\n",
    "    \n",
    "    for data_point in X_test:\n",
    "        \n",
    "        neighbours = get_neighbours(X_train, Y_train, data_point, k)\n",
    "        \n",
    "        prediction = get_prediction(neighbours, k)\n",
    "        \n",
    "        predictions.append(prediction)\n",
    "        \n",
    "    return predictions"
   ]
  },
  {
   "cell_type": "code",
   "execution_count": 12,
   "metadata": {},
   "outputs": [],
   "source": [
    "# returns the accuracy of the model \n",
    "\n",
    "def accuracy(predictions, Y_test):\n",
    "    \n",
    "    score = 0\n",
    "    \n",
    "    for i in range(len(predictions)):\n",
    "        if predictions[i] == Y_test[i]:\n",
    "            score = score + 1\n",
    "    return (score / len(predictions))* 100 "
   ]
  },
  {
   "cell_type": "markdown",
   "metadata": {},
   "source": [
    "## Splitting Data Into Train, Test Set & Making Predictions"
   ]
  },
  {
   "cell_type": "code",
   "execution_count": 13,
   "metadata": {},
   "outputs": [
    {
     "name": "stdout",
     "output_type": "stream",
     "text": [
      "Fitting estimator with 31 features.\n",
      "Fitting estimator with 21 features.\n",
      "Fitting estimator with 11 features.\n",
      "\n",
      "10 selected features\n",
      "['UsingIP', 'PrefixSuffix-', 'SubDomains', 'HTTPS', 'AnchorURL', 'LinksInScriptTags', 'ServerFormHandler', 'WebsiteTraffic', 'GoogleIndex', 'LinksPointingToPage']\n",
      "\n",
      "\n",
      "Shape of X_train :  (7737, 10)\n",
      "\n",
      "Shape of X_validation :  (3317, 10)\n",
      "\n",
      "Shape of Y_train :  (7737,)\n",
      "\n",
      "Shape of Y_validation :  (3317,)\n"
     ]
    }
   ],
   "source": [
    "X_train, X_validation, Y_train, Y_validation = generate_data()"
   ]
  },
  {
   "cell_type": "code",
   "execution_count": 14,
   "metadata": {},
   "outputs": [],
   "source": [
    "# standardizing the dataset\n",
    "scaler = StandardScaler()\n",
    "scaler.fit(X_train)\n",
    "X_train = scaler.transform(X_train)\n",
    "X_validation = scaler.transform(X_validation)"
   ]
  },
  {
   "cell_type": "code",
   "execution_count": 15,
   "metadata": {},
   "outputs": [],
   "source": [
    "predictions = predict(X_validation, X_train, Y_validation, Y_train,5)"
   ]
  },
  {
   "cell_type": "markdown",
   "metadata": {},
   "source": [
    "## Evaluation Metrics"
   ]
  },
  {
   "cell_type": "markdown",
   "metadata": {},
   "source": [
    "### Accuracy"
   ]
  },
  {
   "cell_type": "code",
   "execution_count": 16,
   "metadata": {},
   "outputs": [
    {
     "name": "stdout",
     "output_type": "stream",
     "text": [
      "Accuracy obtained on Validation Set by using KNN  model from scratch with k =  5  :  93.57853482062104  %\n"
     ]
    }
   ],
   "source": [
    "score = accuracy(predictions, Y_validation)\n",
    "print(\"Accuracy obtained on Validation Set by using KNN  model from scratch with k = \",5,\" : \",score, \" %\" )"
   ]
  },
  {
   "cell_type": "markdown",
   "metadata": {},
   "source": [
    "### Confusion Matrix"
   ]
  },
  {
   "cell_type": "code",
   "execution_count": 17,
   "metadata": {},
   "outputs": [
    {
     "name": "stdout",
     "output_type": "stream",
     "text": [
      "1369     100     \n",
      "113     1735     \n"
     ]
    }
   ],
   "source": [
    "matrix = (confusion_matrix(Y_validation,predictions))\n",
    "for i in range(matrix.shape[0]):\n",
    "    for j in range(matrix.shape[1]):\n",
    "        print(matrix[i][j],end = \"     \")\n",
    "    print()"
   ]
  },
  {
   "cell_type": "code",
   "execution_count": 18,
   "metadata": {},
   "outputs": [
    {
     "name": "stdout",
     "output_type": "stream",
     "text": [
      "CONFUSION MATRIX\n"
     ]
    },
    {
     "data": {
      "text/plain": [
       "Text(141.0, 0.5, 'Predicted class value')"
      ]
     },
     "execution_count": 18,
     "metadata": {},
     "output_type": "execute_result"
    },
    {
     "data": {
      "image/png": "[encoded data removed]",
      "text/plain": [
       "<Figure size 1296x288 with 2 Axes>"
      ]
     },
     "metadata": {
      "needs_background": "light"
     },
     "output_type": "display_data"
    }
   ],
   "source": [
    "#Print Confusion Matrix\n",
    "\n",
    "print(\"CONFUSION MATRIX\")\n",
    "plt.figure(figsize=(18,4))\n",
    "uniform_data = np.random.rand(10, 12)\n",
    "ax = sns.heatmap(matrix, annot=True, cmap=\"YlGnBu\")\n",
    "bottom,top=ax.get_ylim()\n",
    "ax.set_ylim(bottom+0.5,top-0.5)\n",
    "plt.xlabel('True class value')\n",
    "plt.ylabel('Predicted class value')"
   ]
  },
  {
   "cell_type": "markdown",
   "metadata": {},
   "source": [
    "### Classification Report"
   ]
  },
  {
   "cell_type": "code",
   "execution_count": 19,
   "metadata": {},
   "outputs": [
    {
     "name": "stdout",
     "output_type": "stream",
     "text": [
      "              precision    recall  f1-score   support\n",
      "\n",
      "          -1       0.92      0.93      0.93      1469\n",
      "           1       0.95      0.94      0.94      1848\n",
      "\n",
      "    accuracy                           0.94      3317\n",
      "   macro avg       0.93      0.94      0.93      3317\n",
      "weighted avg       0.94      0.94      0.94      3317\n",
      "\n"
     ]
    }
   ],
   "source": [
    " print(classification_report(Y_validation, predictions))"
   ]
  },
  {
   "cell_type": "markdown",
   "metadata": {},
   "source": [
    "## Inbuilt KNN Classifier"
   ]
  },
  {
   "cell_type": "code",
   "execution_count": null,
   "metadata": {},
   "outputs": [],
   "source": [
    "neighbors = list(range(1,20))\n",
    "\n",
    "scores = []\n",
    "\n",
    "for k in neighbors:\n",
    "    \n",
    "    knn = KNeighborsClassifier(n_neighbors=k)\n",
    "    knn.fit(X_train, Y_train)\n",
    "    score = knn.score(X_validation, Y_validation)*100\n",
    "    scores.append(score)\n",
    "\n",
    "MSE = np.array([1 - x for x in scores])\n",
    "\n",
    "neighbors = np.array(neighbors)\n",
    "plt.plot(neighbors, MSE)\n",
    "plt.xlabel('Number of Neighbors K')\n",
    "plt.ylabel('Misclassification Error')\n",
    "plt.show()"
   ]
  },
  {
   "cell_type": "code",
   "execution_count": null,
   "metadata": {},
   "outputs": [],
   "source": [
    "neigh = KNeighborsClassifier(n_neighbors=5)\n",
    "neigh.fit(X_train, Y_train)\n",
    "score = neigh.score(X_validation, Y_validation)*100\n",
    "print(\"Accuracy obtained on Validation Set by using the inbuilt KNN model with k = \",5,\" : \",score, \" %\" )"
   ]
  },
  {
   "cell_type": "markdown",
   "metadata": {},
   "source": [
    "##   Naive Bayes Classifier From Scratch"
   ]
  },
  {
   "cell_type": "code",
   "execution_count": 20,
   "metadata": {},
   "outputs": [],
   "source": [
    "#Separate by class\n",
    "\n",
    "\n",
    "# Split the dataset by class values, returns a dictionary\n",
    "def separate_by_class(X,Y):\n",
    "    separated = {}\n",
    "    for i in range(len(X)):\n",
    "        key = Y[i]\n",
    "        value = X[i]\n",
    "        if key in separated.keys():\n",
    "            separated[key].append(value)\n",
    "        else:\n",
    "            separated[key] = [value]\n",
    "    \n",
    "    return separated\n",
    "    "
   ]
  },
  {
   "cell_type": "code",
   "execution_count": 21,
   "metadata": {},
   "outputs": [],
   "source": [
    "# Calculate the mean of a list of numbers\n",
    "def mean(numbers):\n",
    "    return sum(numbers)/float(len(numbers))"
   ]
  },
  {
   "cell_type": "code",
   "execution_count": 22,
   "metadata": {},
   "outputs": [],
   "source": [
    "# Calculate the standard deviation of a list of numbers\n",
    "def stdev(numbers):\n",
    "    avg = mean(numbers)\n",
    "    variance = sum([(x-avg)**2 for x in numbers]) / float(len(numbers)-1)\n",
    "    return sqrt(variance)\n",
    "from math import sqrt\n"
   ]
  },
  {
   "cell_type": "code",
   "execution_count": 23,
   "metadata": {},
   "outputs": [],
   "source": [
    "#Summarize the dataset\n",
    "# Calculate the mean, stdev and count for each column in a dataset\n",
    "def summarize_dataset(X):\n",
    "    summaries = [(mean(column), stdev(column), len(column)) for column in zip(*X)]\n",
    "    return summaries"
   ]
  },
  {
   "cell_type": "code",
   "execution_count": 24,
   "metadata": {},
   "outputs": [],
   "source": [
    "\n",
    "# Split dataset by class then calculate statistics for each row\n",
    "def summarize_by_class(X,Y):\n",
    "    separated = separate_by_class(X,Y)\n",
    "    summaries = dict()\n",
    "    for class_value, rows in separated.items():\n",
    "        summaries[class_value] = summarize_dataset(rows)\n",
    "    return summaries"
   ]
  },
  {
   "cell_type": "code",
   "execution_count": 25,
   "metadata": {},
   "outputs": [],
   "source": [
    "\n",
    "# Calculate the Gaussian probability distribution function for x\n",
    "def calculate_probability(x, mean, stdev):\n",
    "    exponent = exp(-((x-mean)**2 / (2 * stdev**2 )))\n",
    "    return (1 / (sqrt(2 * pi) * stdev)) * exponent"
   ]
  },
  {
   "cell_type": "code",
   "execution_count": 26,
   "metadata": {},
   "outputs": [],
   "source": [
    "# Calculate the probabilities of predicting each class for a given row\n",
    "def calculate_class_probabilities(summaries, row):\n",
    "    total_rows = sum([summaries[label][0][2] for label in summaries])\n",
    "    probabilities = dict()\n",
    "    for class_value, class_summaries in summaries.items():\n",
    "        probabilities[class_value] = summaries[class_value][0][2]/float(total_rows)\n",
    "       \n",
    "        for i in range(len(class_summaries)):\n",
    "            mean, stdev, count = class_summaries[i]\n",
    "            \n",
    "            probabilities[class_value] *= calculate_probability(row[i], mean, stdev)\n",
    "    return probabilities"
   ]
  },
  {
   "cell_type": "code",
   "execution_count": 27,
   "metadata": {},
   "outputs": [],
   "source": [
    "def predictNB(X):\n",
    "    \n",
    "    summary = summarize_by_class(X_train,Y_train)\n",
    "    summary[-1][1] = (-1.0,0.8,3248)\n",
    "    \n",
    "    predictions = []\n",
    "    for i in range(len(X)):\n",
    "        prediction = calculate_class_probabilities(summary,X[i])\n",
    "        class_value = 0\n",
    "        if prediction[1] >= prediction[-1]:\n",
    "            class_value = 1\n",
    "        else:\n",
    "            class_value = -1\n",
    "        predictions.append(class_value)\n",
    "    \n",
    "    return predictions"
   ]
  },
  {
   "cell_type": "markdown",
   "metadata": {},
   "source": [
    "## Splitting Data Into Train, Test Set & Making Predictions"
   ]
  },
  {
   "cell_type": "code",
   "execution_count": 28,
   "metadata": {
    "scrolled": true
   },
   "outputs": [
    {
     "name": "stdout",
     "output_type": "stream",
     "text": [
      "Fitting estimator with 31 features.\n",
      "Fitting estimator with 21 features.\n",
      "Fitting estimator with 11 features.\n",
      "\n",
      "10 selected features\n",
      "['UsingIP', 'PrefixSuffix-', 'SubDomains', 'HTTPS', 'AnchorURL', 'LinksInScriptTags', 'ServerFormHandler', 'WebsiteTraffic', 'GoogleIndex', 'LinksPointingToPage']\n",
      "\n",
      "\n",
      "Shape of X_train :  (7737, 10)\n",
      "\n",
      "Shape of X_validation :  (3317, 10)\n",
      "\n",
      "Shape of Y_train :  (7737,)\n",
      "\n",
      "Shape of Y_validation :  (3317,)\n"
     ]
    }
   ],
   "source": [
    "X_train, X_validation, Y_train, Y_validation = generate_data()"
   ]
  },
  {
   "cell_type": "code",
   "execution_count": 29,
   "metadata": {},
   "outputs": [],
   "source": [
    "predictions = predictNB(X_validation)"
   ]
  },
  {
   "cell_type": "markdown",
   "metadata": {},
   "source": [
    "## Evaluation Metrics"
   ]
  },
  {
   "cell_type": "markdown",
   "metadata": {},
   "source": [
    "### Accuracy"
   ]
  },
  {
   "cell_type": "code",
   "execution_count": 30,
   "metadata": {},
   "outputs": [
    {
     "name": "stdout",
     "output_type": "stream",
     "text": [
      "Accuracy obtained on Validation Set by using the inbuilt Naive Bayes classifier :  91.49834187518843  %\n"
     ]
    }
   ],
   "source": [
    "score = accuracy(predictions, Y_validation)\n",
    "print(\"Accuracy obtained on Validation Set by using the inbuilt Naive Bayes classifier : \",score, \" %\" )"
   ]
  },
  {
   "cell_type": "markdown",
   "metadata": {},
   "source": [
    "### Confusion Matrix"
   ]
  },
  {
   "cell_type": "code",
   "execution_count": 31,
   "metadata": {},
   "outputs": [
    {
     "name": "stdout",
     "output_type": "stream",
     "text": [
      "1319     150     \n",
      "132     1716     \n"
     ]
    }
   ],
   "source": [
    "matrix = (confusion_matrix(Y_validation,predictions))\n",
    "for i in range(matrix.shape[0]):\n",
    "    for j in range(matrix.shape[1]):\n",
    "        print(matrix[i][j],end = \"     \")\n",
    "    print()"
   ]
  },
  {
   "cell_type": "code",
   "execution_count": 32,
   "metadata": {},
   "outputs": [
    {
     "name": "stdout",
     "output_type": "stream",
     "text": [
      "CONFUSION MATRIX\n"
     ]
    },
    {
     "data": {
      "text/plain": [
       "Text(141.0, 0.5, 'Predicted class value')"
      ]
     },
     "execution_count": 32,
     "metadata": {},
     "output_type": "execute_result"
    },
    {
     "data": {
      "image/png": "[encoded data removed]",
      "text/plain": [
       "<Figure size 1296x288 with 2 Axes>"
      ]
     },
     "metadata": {
      "needs_background": "light"
     },
     "output_type": "display_data"
    }
   ],
   "source": [
    "#Print Confusion Matrix\n",
    "\n",
    "print(\"CONFUSION MATRIX\")\n",
    "plt.figure(figsize=(18,4))\n",
    "uniform_data = np.random.rand(10, 12)\n",
    "ax = sns.heatmap(matrix, annot=True, cmap=\"YlGnBu\")\n",
    "bottom,top=ax.get_ylim()\n",
    "ax.set_ylim(bottom+0.5,top-0.5)\n",
    "plt.xlabel('True class value')\n",
    "plt.ylabel('Predicted class value')"
   ]
  },
  {
   "cell_type": "markdown",
   "metadata": {},
   "source": [
    "### Classification Report"
   ]
  },
  {
   "cell_type": "code",
   "execution_count": 33,
   "metadata": {},
   "outputs": [
    {
     "name": "stdout",
     "output_type": "stream",
     "text": [
      "              precision    recall  f1-score   support\n",
      "\n",
      "          -1       0.91      0.90      0.90      1469\n",
      "           1       0.92      0.93      0.92      1848\n",
      "\n",
      "    accuracy                           0.91      3317\n",
      "   macro avg       0.91      0.91      0.91      3317\n",
      "weighted avg       0.91      0.91      0.91      3317\n",
      "\n"
     ]
    }
   ],
   "source": [
    " print(classification_report(Y_validation, predictions))"
   ]
  },
  {
   "cell_type": "markdown",
   "metadata": {},
   "source": [
    "#### END OF ASSIGNMENT"
   ]
  }
 ],
 "metadata": {
  "kernelspec": {
   "display_name": "Python 3",
   "language": "python",
   "name": "python3"
  },
  "language_info": {
   "codemirror_mode": {
    "name": "ipython",
    "version": 3
   },
   "file_extension": ".py",
   "mimetype": "text/x-python",
   "name": "python",
   "nbconvert_exporter": "python",
   "pygments_lexer": "ipython3",
   "version": "3.7.4"
  }
 },
 "nbformat": 4,
 "nbformat_minor": 2
}
